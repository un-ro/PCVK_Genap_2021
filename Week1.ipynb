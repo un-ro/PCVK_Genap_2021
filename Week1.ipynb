{
  "nbformat": 4,
  "nbformat_minor": 0,
  "metadata": {
    "colab": {
      "name": "Week1.ipynb",
      "provenance": [],
      "collapsed_sections": [],
      "authorship_tag": "ABX9TyM/E0OJF9PnjW9rdhYqqrQj",
      "include_colab_link": true
    },
    "kernelspec": {
      "name": "python3",
      "display_name": "Python 3"
    }
  },
  "cells": [
    {
      "cell_type": "markdown",
      "metadata": {
        "id": "view-in-github",
        "colab_type": "text"
      },
      "source": [
        "<a href=\"https://colab.research.google.com/github/un-ro/PCVK_Genap_2021/blob/main/Week1.ipynb\" target=\"_parent\"><img src=\"https://colab.research.google.com/assets/colab-badge.svg\" alt=\"Open In Colab\"/></a>"
      ]
    },
    {
      "cell_type": "code",
      "metadata": {
        "id": "7kngkr7hwArO"
      },
      "source": [
        "# Langkah 1: Import Library\r\n",
        "import numpy as np\r\n",
        "import pandas as pd\r\n",
        "import cv2 as cv\r\n",
        "from google.colab.patches import cv2_imshow\r\n",
        "from skimage import io\r\n",
        "from skimage import transform\r\n",
        "from PIL import image\r\n",
        "import matplotlib.pylab as plt"
      ],
      "execution_count": null,
      "outputs": []
    },
    {
      "cell_type": "code",
      "metadata": {
        "id": "o4-LaEQhxKMy"
      },
      "source": [
        "# Langkah 2: Membaca & Menampilkan Image\r\n",
        "urls = [\"https://iiif.lib.ncsu.edu/iiif/0052574/full/800,/0/default.jpg\",\r\n",
        "        \"https://iiif.lib.ncsu.edu/iiif/0016007/full/800,/0/default.jpg\",\r\n",
        "        \"https://placekitten.com/800/571\"\r\n",
        "        ]\r\n",
        "\r\n",
        "for url in urls:\r\n",
        "  image = io.imread(url)\r\n",
        "  image = cv.resize(image, (0,0), fx=0.5, fy=0.5)\r\n",
        "  image_2 = cv.cvtColor(image, cv.COLOR_BGR2RGB)\r\n",
        "  final_frame = cv.hconcat((image, image_2))\r\n",
        "  cv2_imshow(final_frame)\r\n",
        "  print('')"
      ],
      "execution_count": null,
      "outputs": []
    },
    {
      "cell_type": "code",
      "metadata": {
        "id": "ZmMf8vIfx6Wf"
      },
      "source": [
        "# Langkah 3: Menghitung ukuran image\r\n",
        "tinggi = image_2.shape[0]\r\n",
        "lebar = image_2.shape[1]\r\n",
        "print(f\"Resolusi image: $d x $d\".format(tinggi, lebar))\r\n",
        "cv2_imshow(image_2)"
      ],
      "execution_count": null,
      "outputs": []
    },
    {
      "cell_type": "code",
      "metadata": {
        "id": "MbByZ5QaysvK"
      },
      "source": [
        "# Langkah 4: Memberikan garis putih pada Image\r\n",
        "image_2 = cv.cvtColor(image, cv.COLOR_BGR2RGB)\r\n",
        "image_3 = cv.cvtColor(image, cv.COLOR_BGR2RGB)\r\n",
        "\r\n",
        "# garis horizontal\r\n",
        "for y in range(lebar):\r\n",
        "  image_3[int(tinggi/2), y] = [255, 255, 255]\r\n",
        "\r\n",
        "final_frame = cv.hconcat((image_2, image_3))\r\n",
        "cv2_imshow(final_frame)"
      ],
      "execution_count": null,
      "outputs": []
    }
  ]
}